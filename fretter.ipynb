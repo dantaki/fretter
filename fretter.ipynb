{
 "cells": [
  {
   "cell_type": "code",
   "execution_count": 1,
   "metadata": {},
   "outputs": [],
   "source": [
    "import matplotlib\n",
    "import matplotlib.pyplot as plt\n",
    "import matplotlib.patches as patches\n",
    "import seaborn as sns\n",
    "import pandas as pd\n",
    "import warnings\n",
    "warnings.filterwarnings(\"ignore\")"
   ]
  },
  {
   "cell_type": "code",
   "execution_count": 2,
   "metadata": {},
   "outputs": [],
   "source": [
    "class Music(object):\n",
    "    def __init__(self):\n",
    "        self.scale = [\n",
    "            'C','C#','D','D#',\n",
    "            'E','F','F#','G',\n",
    "            'G#','A','A#','B'\n",
    "        ]\n",
    "        # ----------------------------\n",
    "        # Sets of semitone steps for \n",
    "        #\n",
    "        ## scales \n",
    "        ### pentatonic\n",
    "        self.pentatonic_major = [0,2,4,7,9]\n",
    "        self.pentatonic_minor = [0,3,5,7,10]\n",
    "        ## diatonic\n",
    "        self.diatonic_major = [0,]\n",
    "        ### minor\n",
    "        self.natural_minor = [0,2,3,5,7,8,10]\n",
    "        ### harmonic minor\n",
    "        self.phrygian_dominant = [0,1,4,5,7,8,10]\n",
    "        \n",
    "        ## chords\n",
    "        self.triad_major = [0,4,7]\n",
    "        self.triad_minor = [0,3,7]\n",
    "        ### add7\n",
    "        self.seventh_dominant = [0,4,7,10]\n",
    "        self.seventh_major = [0,4,7,11]\n",
    "        ### hendrix: dominant 7♯9\n",
    "        self.seventh_sharp_ninth_dominant = [0,4,7,10,15]\n",
    "        ###     r, 3, (5), ♭7, (9), ♯11, (13)\n",
    "        self.lydian_major = [0,4,7,10,18]#[0,4,7,10,14,18,21]\n",
    "        \n",
    "    def get_root_index(self,root='C'):\n",
    "        # returns the index of the root note\n",
    "        ind=0\n",
    "        for i,e in enumerate(self.scale):\n",
    "            if root==e: ind=i\n",
    "        return ind\n",
    "    \n",
    "    def wraparound(self,i):\n",
    "        # rockaround the chromatic scale\n",
    "        if i >= len(self.scale):\n",
    "            i = i % len(self.scale)\n",
    "        return i\n",
    "\n",
    "    # -----------------------------------------\n",
    "    def return_notes(self,\n",
    "                     root='C',\n",
    "                     scale_type='triad',\n",
    "                     kind='major'):\n",
    "        '''\n",
    "        root = Root note. Default: C\n",
    "        scale_type = return notes for chords or scales. Default: triad chords\n",
    "        kind = major, minor, etc.. Default: major\n",
    "        \n",
    "        Returns a list of notes. \n",
    "        '''\n",
    "        ind = self.get_root_index(root)\n",
    "        # semitone steps in integer\n",
    "        steps = getattr(self,scale_type+'_'+kind)\n",
    "        notes=[]\n",
    "        for x in steps:\n",
    "            notes.append(self.scale[self.wraparound(ind+x)])\n",
    "        return notes\n",
    "\n",
    "class Guitar(object):\n",
    "    def __init__(self,Music):\n",
    "        self.tuning=['E','A','D','G','B','E']\n",
    "        self.steps=21\n",
    "        # init the figure\n",
    "        self.f, self.ax = plt.subplots(1,1,figsize=(18,2))\n",
    "        \n",
    "        # fretboard is a dataframe of each note\n",
    "        # string int | note | fret int  \n",
    "        self.fretboard= pd.DataFrame()\n",
    "        for string_int,string in enumerate(self.tuning):\n",
    "            notes=[]\n",
    "            root_ind = Music.get_root_index(string)\n",
    "            for semitone in range(0,self.steps+1):\n",
    "                notes.append(Music.scale[Music.wraparound(root_ind+semitone)])\n",
    "            tmp = pd.DataFrame(list(zip(notes, [x for x in range(0,self.steps+1)])),columns =['notes', 'fret'])\n",
    "            tmp['string']=string_int\n",
    "            self.fretboard = pd.concat([self.fretboard,tmp])\n",
    "                                             \n",
    "    def draw_neck(self):\n",
    "        \"\"\"\n",
    "        draw the basic neck\n",
    "        \"\"\"\n",
    "        # draw strings\n",
    "        for y in range(0,len(self.tuning)):\n",
    "            self.ax.hlines(xmin=0,xmax=self.steps,y=y,color='#6E6E6E',linewidth=0.66)\n",
    "        \n",
    "        # draw frets\n",
    "        tix=[]\n",
    "        ymin,ymax=0-0.25,len(self.tuning)\n",
    "        for x in range(0,self.steps+1):\n",
    "            self.ax.vlines(ymin=ymin,ymax=ymax-0.7,x=x,color='black')\n",
    "            if x>=3 or x>=15:\n",
    "                # draw dots\n",
    "                if x % 2 == 1 and (x<11 or (x > 13 and x<20)):\n",
    "                    self.ax.scatter(x=(x-1)+.5,y=(ymax-0.7)/2,color='black',s=30)\n",
    "                    tix.append((x-1)+.5)\n",
    "                if x==12:\n",
    "                    tix.append((x-1)+.5)\n",
    "                    self.ax.scatter(x=(x-1)+.5,y=(ymax-0.7)/4,color='black',s=30)\n",
    "                    self.ax.scatter(x=(x-1)+.5,y=(ymax-0.7)-((ymax-0.7)/4),color='black',s=30)\n",
    "            \n",
    "        self.ax.set_facecolor('#dec49d')\n",
    "        self.ax.set_xlim(0-0.2,self.steps)\n",
    "        self.ax.set_ylim(ymin,ymax)\n",
    "        self.ax.set_xticks(tix)\n",
    "        self.ax.set_xticklabels(['III','V','VII','IX','XII','XV','XVII','XIX'],fontsize=13,weight='bold')\n",
    "        self.ax.set_yticks([x for x in range(0,len(self.tuning))])\n",
    "        self.ax.set_yticklabels(self.tuning,fontsize=13,weight='bold')\n",
    "\n",
    "        sns.despine(ax=self.ax)\n",
    "        \n",
    "        self.f.tight_layout()\n",
    "    \n",
    "    def fret_notes(self,notes,color_notes=False):\n",
    "        \"\"\"\n",
    "        given a set of notes, return a list\n",
    "        of lists containg the fret positions\n",
    "        \"\"\"\n",
    "        self.draw_neck()\n",
    "        fret = self.fretboard.loc[self.fretboard['notes'].isin(notes)]\n",
    "        fret = self.fretboard.loc[self.fretboard['notes'].isin(notes)]\n",
    "        pal = ['mediumspringgreen','gainsboro']\n",
    "        if color_notes != False: pal = color_notes\n",
    "        if color_notes == True: pal = 'Greens_r'\n",
    "        if color_notes == False:\n",
    "            _pal=[0]\n",
    "            for i in range(1,len(notes)): _pal.append(1)\n",
    "            fret['color']=fret['notes'].replace(dict(zip(notes,_pal)))\n",
    "        else:\n",
    "            _pal=[]\n",
    "            for i in range(0,len(notes)): _pal.append(i)\n",
    "            fret['color']=fret['notes'].replace(dict(zip(notes,_pal)))            \n",
    "            \n",
    "        # offset the notes\n",
    "        fret['fret']=[x-0.75 if x else 0-0.1 for x in fret['fret']]\n",
    "        \n",
    "        sns.scatterplot(\n",
    "            x='fret',\n",
    "            y='string',\n",
    "            hue='color',\n",
    "            palette=pal,\n",
    "            ax=self.ax,\n",
    "            s=150,\n",
    "            edgecolor='black',\n",
    "            data=fret,\n",
    "            legend=None,\n",
    "            alpha=1.,\n",
    "            zorder=10,\n",
    "            linewidth=1.3,\n",
    "        )\n",
    "        \n",
    "        self.ax.set_xlabel('')\n",
    "        self.ax.set_ylabel('')\n",
    "        self.ax.set_ylim(0-0.4,len(self.tuning)-0.5)\n",
    "        #self.ax.legend(ncol=len(notes))\n",
    "        self.f.tight_layout()\n",
    "    \n",
    "    def smash_guitar(self):\n",
    "        \"clears the plot\"\n",
    "        self.f.clf()"
   ]
  },
  {
   "cell_type": "code",
   "execution_count": 3,
   "metadata": {},
   "outputs": [
    {
     "data": {
      "text/plain": [
       "['G', 'B', 'D', 'F', 'A#']"
      ]
     },
     "execution_count": 3,
     "metadata": {},
     "output_type": "execute_result"
    }
   ],
   "source": [
    "Music().return_notes('G','seventh_sharp_ninth','dominant')\n",
    "# C, E, G, B♭, (D), F♯, (A)"
   ]
  },
  {
   "cell_type": "code",
   "execution_count": 4,
   "metadata": {
    "scrolled": false
   },
   "outputs": [
    {
     "name": "stdout",
     "output_type": "stream",
     "text": [
      "['D', 'F#', 'A', 'C']\n"
     ]
    },
    {
     "data": {
      "image/png": "[encoded data removed]",
      "text/plain": [
       "<Figure size 1296x144 with 1 Axes>"
      ]
     },
     "metadata": {
      "needs_background": "light"
     },
     "output_type": "display_data"
    }
   ],
   "source": [
    "M = Music()\n",
    "s = M.return_notes('D','seventh','dominant')\n",
    "print(s)\n",
    "G = Guitar(M)\n",
    "G.fret_notes(s,color_notes=True)\n",
    "#G.f.savefig(\"arpeggio.svg\")"
   ]
  },
  {
   "cell_type": "code",
   "execution_count": null,
   "metadata": {},
   "outputs": [],
   "source": []
  }
 ],
 "metadata": {
  "kernelspec": {
   "display_name": "Python 3",
   "language": "python",
   "name": "python3"
  },
  "language_info": {
   "codemirror_mode": {
    "name": "ipython",
    "version": 3
   },
   "file_extension": ".py",
   "mimetype": "text/x-python",
   "name": "python",
   "nbconvert_exporter": "python",
   "pygments_lexer": "ipython3",
   "version": "3.8.6"
  }
 },
 "nbformat": 4,
 "nbformat_minor": 4
}
